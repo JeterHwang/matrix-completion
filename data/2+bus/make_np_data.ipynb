{
 "cells": [
  {
   "cell_type": "markdown",
   "id": "436d90ee-177e-4e0c-9bbb-ccc57555d945",
   "metadata": {},
   "source": [
    "# Converting PSSE data from MATLAB to Numpy\n",
    "For now, we will prepare the $A$ matrices and ground truth (nonnoisy) measurements $b$ vector using MATLAB. Then, we will convert these variables to numpy arrays. Note that $x_{sol}$ is the power flow solution, and $b_i = x_{sol}^TA_ix_{sol}$.\n",
    "\n",
    "## Order of the measurements \n",
    "Note that $x_{sol} \\in \\mathbb{R}^{n} $, \n",
    "$b \\in \\mathbb{R}^{m} $, and \n",
    "$A = [vec(A_i)] \\in \\mathbb{R}^{n\\times m}$, where $n = 2n_{bus} -1$ as we set the imaginary component of the slack bus voltage to zero.\n",
    "\n",
    "Consider the following order for measurement types:\n",
    "$$[p_{i}  ,q_{i}, v_i^2, p_{f}, q_{f}, p_{t},  q_{t}]$$\n",
    "Since we are starting from pf measurements, we put the PF measurements first in $A$. The rest of the order is the same with PF measurements removed:\n",
    "$$\\text{[PF measurements, rest of the measurements]},$$\n",
    "where PF measurements are:\n",
    "$$\\text{[$p_i$ for pv and pq buses, $q_i$ for pq buses, $v_i^2$ for pv and ref buses]}.$$\n",
    "\n",
    "Note that $M_{pf}$ is the number of pf measurements, where $M_{pf} = 2N_{pv} + 2N_{pq} +1 = 2N_{bus} -1$.\n",
    "\n",
    "You may not need the following data, but they will be provided in case you do. \n",
    "- $pv, pq, ref$: give the list of which buses are PV, PQ, and buses.\n",
    "- $line$: Each row gives the from and to bus number."
   ]
  },
  {
   "cell_type": "markdown",
   "id": "9b158271-5fcb-4e8b-985f-041058615e91",
   "metadata": {},
   "source": [
    "Change ```\"case14.mat\"``` with your file in the following code. "
   ]
  },
  {
   "cell_type": "code",
   "execution_count": 6,
   "id": "6e5c5e7e-db00-4ab9-a583-ab2e34448433",
   "metadata": {},
   "outputs": [],
   "source": [
    "import numpy as np\n",
    "import scipy.io as sio          # SciPy ≥ 1.10 recommended\n",
    "from scipy import sparse\n",
    "\n",
    "# --- 1.  Load the .mat file --------------------------------------------------\n",
    "mat = sio.loadmat(\n",
    "    \"case1354pegase.mat\",\n",
    "    squeeze_me=True,            # drop singleton dimensions\n",
    "    simplify_cells=True         # unwrap cell arrays / structs automatically\n",
    ")                               # spmatrix=True by default, so sparse MATLAB\n",
    "                                # variables come back as SciPy sparse objects:contentReference[oaicite:0]{index=0}\n",
    "\n",
    "# --- 2.  Grab the variables you need -----------------------------------------\n",
    "A   = mat[\"A\"]      # sparse matrix\n",
    "line = mat[\"line\"]\n",
    "bsol   = np.asarray(mat[\"b\"]).ravel()       # 1-D NumPy vector\n",
    "xsol = np.asarray(mat[\"xsol\"]).ravel()  \n",
    "pv   = np.asarray(mat[\"pv\"]).ravel()\n",
    "pq   = np.asarray(mat[\"pq\"]).ravel()\n",
    "ref  = mat[\"ref\"]\n",
    "\n",
    "# --- 3.  (Optional) tidy-up / conversions ------------------------------------\n",
    "# Make sure A is the actual sparse matrix (not wrapped in a 1×1 object array)\n",
    "if isinstance(A, np.ndarray) and A.dtype == object:\n",
    "    print('Problem')\n",
    "    A = A.item()                # unwrap cell / struct entry:contentReference[oaicite:1]{index=1}\n",
    "\n",
    "\n",
    "# If you really need dense NumPy arrays:\n",
    "# A_dense = A.toarray()           # beware of memory blow-up for large matrices\n"
   ]
  },
  {
   "cell_type": "code",
   "execution_count": 7,
   "id": "bbea8165-00e2-4179-9955-951a9e4f9919",
   "metadata": {},
   "outputs": [
    {
     "data": {
      "text/plain": [
       "array([[1074,  802],\n",
       "       [ 652, 1103],\n",
       "       [ 856,  592],\n",
       "       ...,\n",
       "       [ 690, 1273],\n",
       "       [ 690, 1273],\n",
       "       [ 429,  639]], dtype=uint16)"
      ]
     },
     "execution_count": 7,
     "metadata": {},
     "output_type": "execute_result"
    }
   ],
   "source": [
    "line"
   ]
  },
  {
   "cell_type": "code",
   "execution_count": 4,
   "id": "56bd1924-954e-4ae4-b12d-9ed682beacd8",
   "metadata": {},
   "outputs": [
    {
     "data": {
      "text/plain": [
       "(10,)"
      ]
     },
     "execution_count": 4,
     "metadata": {},
     "output_type": "execute_result"
    }
   ],
   "source": [
    "bsol.shape"
   ]
  },
  {
   "cell_type": "code",
   "execution_count": 5,
   "id": "4e1bc813-a8f8-4394-857d-5a9df53014cb",
   "metadata": {},
   "outputs": [
    {
     "data": {
      "text/plain": [
       "array([ 1.        ,  0.80643107, -0.19      ])"
      ]
     },
     "execution_count": 5,
     "metadata": {},
     "output_type": "execute_result"
    }
   ],
   "source": [
    "xsol"
   ]
  }
 ],
 "metadata": {
  "kernelspec": {
   "display_name": "Python 3 (ipykernel)",
   "language": "python",
   "name": "python3"
  },
  "language_info": {
   "codemirror_mode": {
    "name": "ipython",
    "version": 3
   },
   "file_extension": ".py",
   "mimetype": "text/x-python",
   "name": "python",
   "nbconvert_exporter": "python",
   "pygments_lexer": "ipython3",
   "version": "3.12.5"
  }
 },
 "nbformat": 4,
 "nbformat_minor": 5
}
