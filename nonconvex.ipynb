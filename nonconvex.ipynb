{
 "cells": [
  {
   "cell_type": "code",
   "execution_count": 1,
   "metadata": {},
   "outputs": [],
   "source": [
    "import torch\n",
    "import numpy as np\n",
    "import matplotlib.pyplot as plt\n",
    "from src.utils import same_seed, create_Z, sample_mask, spectral_initialization\n",
    "from src.nonconvex import sgd, create_loss_fn, create_proj_fn"
   ]
  },
  {
   "cell_type": "code",
   "execution_count": 2,
   "metadata": {},
   "outputs": [],
   "source": [
    "def generate_data(n, m, r, mu, PSD=False, projected=False, optim='SGD', iters=100, lr=0.001, lr_sched='cosine', data_points=20, ensemble=10):\n",
    "    # Produce Error Data\n",
    "    SE, FE, GN, MEI = [], [], [], []\n",
    "    probs = np.linspace(0.1, 1, data_points)\n",
    "    for p in probs:\n",
    "        error, loss, grad, eigen = 0, 0, 0, 0\n",
    "        for i in range(ensemble):\n",
    "            # Sample groundtruth and mask\n",
    "            (L, R), mu_Z = create_Z(n, m, r, mu, PSD)\n",
    "            L = torch.tensor(L)\n",
    "            R = torch.tensor(R)\n",
    "            mask = sample_mask(n, m, p)\n",
    "            mask = torch.tensor(mask, dtype=torch.float32)\n",
    "            # Initialize optimized tensors\n",
    "            parameters = spectral_initialization(p, r, L @ R.T, mask, PSD)\n",
    "            if PSD:\n",
    "                criterion = create_loss_fn('MC_PSD', e=0, Z=L, ZL=0, ZR=0, mask=mask)\n",
    "            else:\n",
    "                criterion = create_loss_fn('MC', e=0, Z=0, ZL=L, ZR=R, mask=mask)\n",
    "            proj_fn = create_proj_fn('MC', mu=mu)\n",
    "            # GD\n",
    "            _losses, grad_norm, min_eigen = sgd(\n",
    "                parameters, \n",
    "                criterion,\n",
    "                proj_fn,\n",
    "                optim, \n",
    "                iters, \n",
    "                lr,\n",
    "                lr_sched\n",
    "            )\n",
    "            # Accumulate losses\n",
    "            error   += torch.linalg.norm((parameters[0] @ parameters[-1].T) - (L @ R.T))\n",
    "            loss    += _losses[-1]\n",
    "            grad    += grad_norm\n",
    "            eigen   += min_eigen\n",
    "        SE.append(error / ensemble)\n",
    "        FE.append(loss / ensemble)\n",
    "        GN.append(grad_norm / ensemble)\n",
    "        MEI.append(eigen / ensemble)\n",
    "    return probs, SE, FE, GN, MEI"
   ]
  },
  {
   "cell_type": "code",
   "execution_count": 3,
   "metadata": {},
   "outputs": [],
   "source": [
    "def plot_error(probs, SE, FE, GN, MEI):\n",
    "    # bound = mu * r * (np.log10(n))**2 / n\n",
    "    # Plotting\n",
    "    fig, ax = plt.subplots(2, 2, figsize=(20, 20), tight_layout=True)\n",
    "    \n",
    "    ax[0][0].plot(probs, SE, marker='o', linestyle='-', color='blue', label='empirical data')\n",
    "    ax[0][1].plot(probs, FE, marker='o', linestyle='-', color='blue', label='empirical data')\n",
    "    ax[1][0].plot(probs, GN, marker='o', linestyle='-', color='blue', label='empirical data')\n",
    "    ax[1][1].plot(probs, MEI, marker='o', linestyle='-', color='blue', label='empirical data')\n",
    "    # ax.axvline(x = bound, color = 'r', label = 'theoretical bound')\n",
    "    \n",
    "    ax[0][0].set_xlabel(\"Sample Probability p\", fontsize=30), \n",
    "    ax[0][0].set_ylabel(r\"$\\|L_tR_t^T - Z\\|^2_F$\", fontsize=30)\n",
    "    ax[0][0].set_title(f\"Impact of p on Solution Exactness\", fontsize=25, fontname='Comic Sans MS')\n",
    "    ax[0][0].xaxis.set_tick_params(labelsize=20)\n",
    "    ax[0][0].yaxis.set_tick_params(labelsize=20)\n",
    "    ax[0][0].set_yscale('log')\n",
    "    ax[0][0].grid()\n",
    "\n",
    "    ax[0][1].set_xlabel(\"Sample Probability p\", fontsize=30), \n",
    "    ax[0][1].set_ylabel(r\"$f(L_t, R_t)$\", fontsize=30)\n",
    "    ax[0][1].set_title(f\"Impact of p on Global Optimality\", fontsize=25, fontname='Comic Sans MS')\n",
    "    ax[0][1].xaxis.set_tick_params(labelsize=20)\n",
    "    ax[0][1].yaxis.set_tick_params(labelsize=20)\n",
    "    ax[0][1].set_yscale('log')\n",
    "    ax[0][1].grid()\n",
    "\n",
    "    ax[1][0].set_xlabel(\"Sample Probability p\", fontsize=30), \n",
    "    ax[1][0].set_ylabel(r\"$\\|\\nabla_L f(L_t,R_t)\\|^2_F$\", fontsize=30)\n",
    "    ax[1][0].set_title(f\"Final Gradient Norm\", fontsize=25, fontname='Comic Sans MS')\n",
    "    ax[1][0].xaxis.set_tick_params(labelsize=20)\n",
    "    ax[1][0].yaxis.set_tick_params(labelsize=20)\n",
    "    ax[1][0].set_yscale('log')\n",
    "    ax[1][0].grid()\n",
    "\n",
    "    ax[1][1].set_xlabel(\"Sample Probability p\", fontsize=30), \n",
    "    ax[1][1].set_ylabel(r\"$\\lambda_{min}(\\nabla^2_Lf(L_t,R_t))$\", fontsize=30)\n",
    "    ax[1][1].set_title(f\"Final Minimum Eigenvalue\", fontsize=25, fontname='Comic Sans MS')\n",
    "    ax[1][1].xaxis.set_tick_params(labelsize=20)\n",
    "    ax[1][1].yaxis.set_tick_params(labelsize=20)\n",
    "    # ax[1][1].set_yscale('log')\n",
    "    ax[1][1].grid()"
   ]
  },
  {
   "cell_type": "code",
   "execution_count": 4,
   "metadata": {},
   "outputs": [
    {
     "name": "stderr",
     "output_type": "stream",
     "text": [
      "                                                                                                \r"
     ]
    },
    {
     "ename": "KeyboardInterrupt",
     "evalue": "",
     "output_type": "error",
     "traceback": [
      "\u001b[0;31m---------------------------------------------------------------------------\u001b[0m",
      "\u001b[0;31mKeyboardInterrupt\u001b[0m                         Traceback (most recent call last)",
      "Cell \u001b[0;32mIn[4], line 17\u001b[0m\n\u001b[1;32m     14\u001b[0m optim \u001b[39m=\u001b[39m \u001b[39m'\u001b[39m\u001b[39mSGD\u001b[39m\u001b[39m'\u001b[39m\n\u001b[1;32m     16\u001b[0m same_seed(\u001b[39m0\u001b[39m)\n\u001b[0;32m---> 17\u001b[0m probs, SE, FE, GN, MEI \u001b[39m=\u001b[39m generate_data(n, m, r, mu, PSD, projected, optim, iters, lr, lr_sched, data_points, ensemble)\n\u001b[1;32m     18\u001b[0m plot_error(probs, SE, FE, GN, MEI)\n",
      "Cell \u001b[0;32mIn[2], line 22\u001b[0m, in \u001b[0;36mgenerate_data\u001b[0;34m(n, m, r, mu, PSD, projected, optim, iters, lr, lr_sched, data_points, ensemble)\u001b[0m\n\u001b[1;32m     20\u001b[0m proj_fn \u001b[39m=\u001b[39m create_proj_fn(\u001b[39m'\u001b[39m\u001b[39mMC\u001b[39m\u001b[39m'\u001b[39m, mu\u001b[39m=\u001b[39mmu)\n\u001b[1;32m     21\u001b[0m \u001b[39m# GD\u001b[39;00m\n\u001b[0;32m---> 22\u001b[0m _losses, grad_norm, min_eigen \u001b[39m=\u001b[39m sgd(\n\u001b[1;32m     23\u001b[0m     parameters, \n\u001b[1;32m     24\u001b[0m     criterion,\n\u001b[1;32m     25\u001b[0m     proj_fn,\n\u001b[1;32m     26\u001b[0m     optim, \n\u001b[1;32m     27\u001b[0m     iters, \n\u001b[1;32m     28\u001b[0m     lr,\n\u001b[1;32m     29\u001b[0m     lr_sched\n\u001b[1;32m     30\u001b[0m )\n\u001b[1;32m     31\u001b[0m \u001b[39m# Accumulate losses\u001b[39;00m\n\u001b[1;32m     32\u001b[0m error   \u001b[39m+\u001b[39m\u001b[39m=\u001b[39m torch\u001b[39m.\u001b[39mlinalg\u001b[39m.\u001b[39mnorm((parameters[\u001b[39m0\u001b[39m] \u001b[39m@\u001b[39m parameters[\u001b[39m-\u001b[39m\u001b[39m1\u001b[39m]\u001b[39m.\u001b[39mT) \u001b[39m-\u001b[39m (L \u001b[39m@\u001b[39m R\u001b[39m.\u001b[39mT))\n",
      "File \u001b[0;32m~/Library/CloudStorage/OneDrive-UniversityofIllinois-Urbana/桌面/Lab/matrix-completion/src/nonconvex.py:87\u001b[0m, in \u001b[0;36msgd\u001b[0;34m(parameters, criterion, project_fn, optim, iters, lr, min_lr, lr_sched, ret_eig)\u001b[0m\n\u001b[1;32m     85\u001b[0m                 project_fn(param)\n\u001b[1;32m     86\u001b[0m         pbar\u001b[39m.\u001b[39mupdate(\u001b[39m1\u001b[39m)\n\u001b[0;32m---> 87\u001b[0m         pbar\u001b[39m.\u001b[39;49mset_description(\u001b[39mf\u001b[39;49m\u001b[39m\"\u001b[39;49m\u001b[39mIter: \u001b[39;49m\u001b[39m{\u001b[39;49;00mi\u001b[39m}\u001b[39;49;00m\u001b[39m, lr=\u001b[39;49m\u001b[39m{\u001b[39;49;00mnew_lr\u001b[39m:\u001b[39;49;00m\u001b[39m.6f\u001b[39;49m\u001b[39m}\u001b[39;49;00m\u001b[39m, loss=\u001b[39;49m\u001b[39m{\u001b[39;49;00mlosses[\u001b[39m-\u001b[39;49m\u001b[39m1\u001b[39;49m]\u001b[39m:\u001b[39;49;00m\u001b[39m.9f\u001b[39;49m\u001b[39m}\u001b[39;49;00m\u001b[39m\"\u001b[39;49m)\n\u001b[1;32m     89\u001b[0m w_L, h_L \u001b[39m=\u001b[39m parameters[\u001b[39m0\u001b[39m]\u001b[39m.\u001b[39msize() \n\u001b[1;32m     90\u001b[0m grad_norm_L \u001b[39m=\u001b[39m torch\u001b[39m.\u001b[39mlinalg\u001b[39m.\u001b[39mmatrix_norm(grad(criterion(\u001b[39m*\u001b[39mparameters), parameters[\u001b[39m0\u001b[39m])[\u001b[39m0\u001b[39m])\u001b[39m.\u001b[39mitem()\n",
      "File \u001b[0;32m/opt/homebrew/lib/python3.11/site-packages/tqdm/std.py:1394\u001b[0m, in \u001b[0;36mtqdm.set_description\u001b[0;34m(self, desc, refresh)\u001b[0m\n\u001b[1;32m   1392\u001b[0m \u001b[39mself\u001b[39m\u001b[39m.\u001b[39mdesc \u001b[39m=\u001b[39m desc \u001b[39m+\u001b[39m \u001b[39m'\u001b[39m\u001b[39m: \u001b[39m\u001b[39m'\u001b[39m \u001b[39mif\u001b[39;00m desc \u001b[39melse\u001b[39;00m \u001b[39m'\u001b[39m\u001b[39m'\u001b[39m\n\u001b[1;32m   1393\u001b[0m \u001b[39mif\u001b[39;00m refresh:\n\u001b[0;32m-> 1394\u001b[0m     \u001b[39mself\u001b[39;49m\u001b[39m.\u001b[39;49mrefresh()\n",
      "File \u001b[0;32m/opt/homebrew/lib/python3.11/site-packages/tqdm/std.py:1347\u001b[0m, in \u001b[0;36mtqdm.refresh\u001b[0;34m(self, nolock, lock_args)\u001b[0m\n\u001b[1;32m   1345\u001b[0m     \u001b[39melse\u001b[39;00m:\n\u001b[1;32m   1346\u001b[0m         \u001b[39mself\u001b[39m\u001b[39m.\u001b[39m_lock\u001b[39m.\u001b[39macquire()\n\u001b[0;32m-> 1347\u001b[0m \u001b[39mself\u001b[39;49m\u001b[39m.\u001b[39;49mdisplay()\n\u001b[1;32m   1348\u001b[0m \u001b[39mif\u001b[39;00m \u001b[39mnot\u001b[39;00m nolock:\n\u001b[1;32m   1349\u001b[0m     \u001b[39mself\u001b[39m\u001b[39m.\u001b[39m_lock\u001b[39m.\u001b[39mrelease()\n",
      "File \u001b[0;32m/opt/homebrew/lib/python3.11/site-packages/tqdm/std.py:1495\u001b[0m, in \u001b[0;36mtqdm.display\u001b[0;34m(self, msg, pos)\u001b[0m\n\u001b[1;32m   1493\u001b[0m \u001b[39mif\u001b[39;00m pos:\n\u001b[1;32m   1494\u001b[0m     \u001b[39mself\u001b[39m\u001b[39m.\u001b[39mmoveto(pos)\n\u001b[0;32m-> 1495\u001b[0m \u001b[39mself\u001b[39;49m\u001b[39m.\u001b[39;49msp(\u001b[39mself\u001b[39;49m\u001b[39m.\u001b[39;49m\u001b[39m__str__\u001b[39;49m() \u001b[39mif\u001b[39;49;00m msg \u001b[39mis\u001b[39;49;00m \u001b[39mNone\u001b[39;49;00m \u001b[39melse\u001b[39;49;00m msg)\n\u001b[1;32m   1496\u001b[0m \u001b[39mif\u001b[39;00m pos:\n\u001b[1;32m   1497\u001b[0m     \u001b[39mself\u001b[39m\u001b[39m.\u001b[39mmoveto(\u001b[39m-\u001b[39mpos)\n",
      "File \u001b[0;32m/opt/homebrew/lib/python3.11/site-packages/tqdm/std.py:459\u001b[0m, in \u001b[0;36mtqdm.status_printer.<locals>.print_status\u001b[0;34m(s)\u001b[0m\n\u001b[1;32m    457\u001b[0m \u001b[39mdef\u001b[39;00m \u001b[39mprint_status\u001b[39m(s):\n\u001b[1;32m    458\u001b[0m     len_s \u001b[39m=\u001b[39m disp_len(s)\n\u001b[0;32m--> 459\u001b[0m     fp_write(\u001b[39m'\u001b[39;49m\u001b[39m\\r\u001b[39;49;00m\u001b[39m'\u001b[39;49m \u001b[39m+\u001b[39;49m s \u001b[39m+\u001b[39;49m (\u001b[39m'\u001b[39;49m\u001b[39m \u001b[39;49m\u001b[39m'\u001b[39;49m \u001b[39m*\u001b[39;49m \u001b[39mmax\u001b[39;49m(last_len[\u001b[39m0\u001b[39;49m] \u001b[39m-\u001b[39;49m len_s, \u001b[39m0\u001b[39;49m)))\n\u001b[1;32m    460\u001b[0m     last_len[\u001b[39m0\u001b[39m] \u001b[39m=\u001b[39m len_s\n",
      "File \u001b[0;32m/opt/homebrew/lib/python3.11/site-packages/tqdm/std.py:453\u001b[0m, in \u001b[0;36mtqdm.status_printer.<locals>.fp_write\u001b[0;34m(s)\u001b[0m\n\u001b[1;32m    451\u001b[0m \u001b[39mdef\u001b[39;00m \u001b[39mfp_write\u001b[39m(s):\n\u001b[1;32m    452\u001b[0m     fp\u001b[39m.\u001b[39mwrite(\u001b[39mstr\u001b[39m(s))\n\u001b[0;32m--> 453\u001b[0m     fp_flush()\n",
      "File \u001b[0;32m/opt/homebrew/lib/python3.11/site-packages/tqdm/utils.py:196\u001b[0m, in \u001b[0;36mDisableOnWriteError.disable_on_exception.<locals>.inner\u001b[0;34m(*args, **kwargs)\u001b[0m\n\u001b[1;32m    194\u001b[0m \u001b[39mdef\u001b[39;00m \u001b[39minner\u001b[39m(\u001b[39m*\u001b[39margs, \u001b[39m*\u001b[39m\u001b[39m*\u001b[39mkwargs):\n\u001b[1;32m    195\u001b[0m     \u001b[39mtry\u001b[39;00m:\n\u001b[0;32m--> 196\u001b[0m         \u001b[39mreturn\u001b[39;00m func(\u001b[39m*\u001b[39;49margs, \u001b[39m*\u001b[39;49m\u001b[39m*\u001b[39;49mkwargs)\n\u001b[1;32m    197\u001b[0m     \u001b[39mexcept\u001b[39;00m \u001b[39mOSError\u001b[39;00m \u001b[39mas\u001b[39;00m e:\n\u001b[1;32m    198\u001b[0m         \u001b[39mif\u001b[39;00m e\u001b[39m.\u001b[39merrno \u001b[39m!=\u001b[39m \u001b[39m5\u001b[39m:\n",
      "File \u001b[0;32m~/Library/Python/3.11/lib/python/site-packages/ipykernel/iostream.py:580\u001b[0m, in \u001b[0;36mOutStream.flush\u001b[0;34m(self)\u001b[0m\n\u001b[1;32m    578\u001b[0m     \u001b[39mself\u001b[39m\u001b[39m.\u001b[39mpub_thread\u001b[39m.\u001b[39mschedule(evt\u001b[39m.\u001b[39mset)\n\u001b[1;32m    579\u001b[0m     \u001b[39m# and give a timeout to avoid\u001b[39;00m\n\u001b[0;32m--> 580\u001b[0m     \u001b[39mif\u001b[39;00m \u001b[39mnot\u001b[39;00m evt\u001b[39m.\u001b[39;49mwait(\u001b[39mself\u001b[39;49m\u001b[39m.\u001b[39;49mflush_timeout):\n\u001b[1;32m    581\u001b[0m         \u001b[39m# write directly to __stderr__ instead of warning because\u001b[39;00m\n\u001b[1;32m    582\u001b[0m         \u001b[39m# if this is happening sys.stderr may be the problem.\u001b[39;00m\n\u001b[1;32m    583\u001b[0m         \u001b[39mprint\u001b[39m(\u001b[39m\"\u001b[39m\u001b[39mIOStream.flush timed out\u001b[39m\u001b[39m\"\u001b[39m, file\u001b[39m=\u001b[39msys\u001b[39m.\u001b[39m__stderr__)\n\u001b[1;32m    584\u001b[0m \u001b[39melse\u001b[39;00m:\n",
      "File \u001b[0;32m/opt/homebrew/Cellar/python@3.11/3.11.7_1/Frameworks/Python.framework/Versions/3.11/lib/python3.11/threading.py:629\u001b[0m, in \u001b[0;36mEvent.wait\u001b[0;34m(self, timeout)\u001b[0m\n\u001b[1;32m    627\u001b[0m signaled \u001b[39m=\u001b[39m \u001b[39mself\u001b[39m\u001b[39m.\u001b[39m_flag\n\u001b[1;32m    628\u001b[0m \u001b[39mif\u001b[39;00m \u001b[39mnot\u001b[39;00m signaled:\n\u001b[0;32m--> 629\u001b[0m     signaled \u001b[39m=\u001b[39m \u001b[39mself\u001b[39;49m\u001b[39m.\u001b[39;49m_cond\u001b[39m.\u001b[39;49mwait(timeout)\n\u001b[1;32m    630\u001b[0m \u001b[39mreturn\u001b[39;00m signaled\n",
      "File \u001b[0;32m/opt/homebrew/Cellar/python@3.11/3.11.7_1/Frameworks/Python.framework/Versions/3.11/lib/python3.11/threading.py:331\u001b[0m, in \u001b[0;36mCondition.wait\u001b[0;34m(self, timeout)\u001b[0m\n\u001b[1;32m    329\u001b[0m \u001b[39melse\u001b[39;00m:\n\u001b[1;32m    330\u001b[0m     \u001b[39mif\u001b[39;00m timeout \u001b[39m>\u001b[39m \u001b[39m0\u001b[39m:\n\u001b[0;32m--> 331\u001b[0m         gotit \u001b[39m=\u001b[39m waiter\u001b[39m.\u001b[39;49macquire(\u001b[39mTrue\u001b[39;49;00m, timeout)\n\u001b[1;32m    332\u001b[0m     \u001b[39melse\u001b[39;00m:\n\u001b[1;32m    333\u001b[0m         gotit \u001b[39m=\u001b[39m waiter\u001b[39m.\u001b[39macquire(\u001b[39mFalse\u001b[39;00m)\n",
      "\u001b[0;31mKeyboardInterrupt\u001b[0m: "
     ]
    }
   ],
   "source": [
    "n   = 5\n",
    "m   = 5\n",
    "r   = 1\n",
    "mu  = 2\n",
    "PSD = True\n",
    "\n",
    "projected = False\n",
    "iters = 5000\n",
    "lr = 0.01\n",
    "lr_sched = 'cosine'\n",
    "\n",
    "data_points = 100\n",
    "ensemble = 10\n",
    "optim = 'SGD'\n",
    "\n",
    "same_seed(0)\n",
    "probs, SE, FE, GN, MEI = generate_data(n, m, r, mu, PSD, projected, optim, iters, lr, lr_sched, data_points, ensemble)\n",
    "plot_error(probs, SE, FE, GN, MEI)"
   ]
  }
 ],
 "metadata": {
  "kernelspec": {
   "display_name": "Python 3",
   "language": "python",
   "name": "python3"
  },
  "language_info": {
   "codemirror_mode": {
    "name": "ipython",
    "version": 3
   },
   "file_extension": ".py",
   "mimetype": "text/x-python",
   "name": "python",
   "nbconvert_exporter": "python",
   "pygments_lexer": "ipython3",
   "version": "3.11.7"
  },
  "orig_nbformat": 4
 },
 "nbformat": 4,
 "nbformat_minor": 2
}
