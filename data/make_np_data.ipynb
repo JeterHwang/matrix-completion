{
 "cells": [
  {
   "cell_type": "markdown",
   "id": "436d90ee-177e-4e0c-9bbb-ccc57555d945",
   "metadata": {},
   "source": [
    "# Two bus data retrieved from MATLAB \n",
    "For now, we will prepare the $A$ matrices and ground truth (nonnoisy) measurements $b$ vector using MATLAB. Then, we will convert these variables to numpy arrays. The system we use is the 2 bus example in ZLB19. "
   ]
  },
  {
   "cell_type": "code",
   "execution_count": 1,
   "id": "fffd79cb-d034-42ce-b592-21914079b6a1",
   "metadata": {},
   "outputs": [
    {
     "ename": "ModuleNotFoundError",
     "evalue": "No module named 'pypower'",
     "output_type": "error",
     "traceback": [
      "\u001b[0;31m---------------------------------------------------------------------------\u001b[0m",
      "\u001b[0;31mModuleNotFoundError\u001b[0m                       Traceback (most recent call last)",
      "Cell \u001b[0;32mIn[1], line 2\u001b[0m\n\u001b[1;32m      1\u001b[0m \u001b[39m# This part is for me to check the parameters\u001b[39;00m\n\u001b[0;32m----> 2\u001b[0m \u001b[39mimport\u001b[39;00m \u001b[39mpypower\u001b[39;00m \u001b[39mas\u001b[39;00m \u001b[39mpp\u001b[39;00m\n\u001b[1;32m      3\u001b[0m \u001b[39mfrom\u001b[39;00m \u001b[39mpypower\u001b[39;00m\u001b[39m.\u001b[39;00m\u001b[39mloadcase\u001b[39;00m \u001b[39mimport\u001b[39;00m loadcase\n\u001b[1;32m      4\u001b[0m ppc \u001b[39m=\u001b[39m loadcase(\u001b[39m'\u001b[39m\u001b[39mcase2.py\u001b[39m\u001b[39m'\u001b[39m) \n",
      "\u001b[0;31mModuleNotFoundError\u001b[0m: No module named 'pypower'"
     ]
    }
   ],
   "source": [
    "# This part is for me to check the parameters\n",
    "import pypower as pp\n",
    "from pypower.loadcase import loadcase\n",
    "ppc = loadcase('case2.py') \n",
    "ppc"
   ]
  },
  {
   "cell_type": "markdown",
   "id": "3d70c666-fc8e-4543-9f77-16717d5bd1d1",
   "metadata": {},
   "source": [
    "## Let's load the `mat` data."
   ]
  },
  {
   "cell_type": "code",
   "execution_count": 2,
   "id": "6e5c5e7e-db00-4ab9-a583-ab2e34448433",
   "metadata": {},
   "outputs": [],
   "source": [
    "import numpy as np\n",
    "import scipy.io as sio          # SciPy ≥ 1.10 recommended\n",
    "from scipy import sparse\n",
    "\n",
    "# --- 1.  Load the .mat file --------------------------------------------------\n",
    "mat = sio.loadmat(\n",
    "    \"2bus_data.mat\",\n",
    "    squeeze_me=True,            # drop singleton dimensions\n",
    "    simplify_cells=True         # unwrap cell arrays / structs automatically\n",
    ")                               # spmatrix=True by default, so sparse MATLAB\n",
    "                                # variables come back as SciPy sparse objects:contentReference[oaicite:0]{index=0}\n",
    "\n",
    "# --- 2.  Grab the variables you need -----------------------------------------\n",
    "A   = mat[\"A\"]      # sparse matrix\n",
    "bsol   = np.asarray(mat[\"b\"]).ravel()       # 1-D NumPy vector\n",
    "xsol = np.asarray(mat[\"xsol\"]).ravel()   # 1-D NumPy vector\n",
    "\n",
    "# --- 3.  (Optional) tidy-up / conversions ------------------------------------\n",
    "# Make sure A is the actual sparse matrix (not wrapped in a 1×1 object array)\n",
    "if isinstance(A, np.ndarray) and A.dtype == object:\n",
    "    A = A.item()                # unwrap cell / struct entry:contentReference[oaicite:1]{index=1}\n",
    "\n",
    "# Put A in the format you like:\n",
    "A = A.tocsr()                   # fast mat-vecs; or .tocsc(), .toarray(), …\n",
    "\n",
    "# If you really need dense NumPy arrays:\n",
    "A_dense = A.toarray()           # beware of memory blow-up for large matrices\n"
   ]
  },
  {
   "cell_type": "code",
   "execution_count": 4,
   "id": "bbea8165-00e2-4179-9955-951a9e4f9919",
   "metadata": {},
   "outputs": [
    {
     "data": {
      "text/plain": [
       "array([[[ 0.        , -0.4950495 ,  4.95049505],\n",
       "        [-0.4950495 ,  0.99009901,  0.        ],\n",
       "        [ 4.95049505,  0.        ,  0.99009901]],\n",
       "\n",
       "       [[ 0.        , -4.95049505, -0.4950495 ],\n",
       "        [-4.95049505,  9.9009901 ,  0.        ],\n",
       "        [-0.4950495 ,  0.        ,  9.9009901 ]],\n",
       "\n",
       "       [[ 1.        ,  0.        ,  0.        ],\n",
       "        [ 0.        ,  0.        ,  0.        ],\n",
       "        [ 0.        ,  0.        ,  0.        ]],\n",
       "\n",
       "       [[ 0.99009901, -0.4950495 , -4.95049505],\n",
       "        [-0.4950495 ,  0.        ,  0.        ],\n",
       "        [-4.95049505,  0.        ,  0.        ]],\n",
       "\n",
       "       [[ 9.9009901 , -4.95049505,  0.4950495 ],\n",
       "        [-4.95049505,  0.        ,  0.        ],\n",
       "        [ 0.4950495 ,  0.        ,  0.        ]],\n",
       "\n",
       "       [[ 0.        ,  0.        ,  0.        ],\n",
       "        [ 0.        ,  1.        ,  0.        ],\n",
       "        [ 0.        ,  0.        ,  1.        ]],\n",
       "\n",
       "       [[ 0.99009901, -0.4950495 , -4.95049505],\n",
       "        [-0.4950495 ,  0.        ,  0.        ],\n",
       "        [-4.95049505,  0.        ,  0.        ]],\n",
       "\n",
       "       [[ 9.9009901 , -4.95049505,  0.4950495 ],\n",
       "        [-4.95049505,  0.        ,  0.        ],\n",
       "        [ 0.4950495 ,  0.        ,  0.        ]],\n",
       "\n",
       "       [[ 0.        , -0.4950495 ,  4.95049505],\n",
       "        [-0.4950495 ,  0.99009901,  0.        ],\n",
       "        [ 4.95049505,  0.        ,  0.99009901]],\n",
       "\n",
       "       [[ 0.        , -4.95049505, -0.4950495 ],\n",
       "        [-4.95049505,  9.9009901 ,  0.        ],\n",
       "        [-0.4950495 ,  0.        ,  9.9009901 ]]])"
      ]
     },
     "execution_count": 4,
     "metadata": {},
     "output_type": "execute_result"
    }
   ],
   "source": [
    "np.moveaxis(A_dense.reshape(3,3,10), -1, 0)"
   ]
  },
  {
   "cell_type": "code",
   "execution_count": null,
   "id": "56bd1924-954e-4ae4-b12d-9ed682beacd8",
   "metadata": {},
   "outputs": [
    {
     "data": {
      "text/plain": [
       "(10,)"
      ]
     },
     "execution_count": 15,
     "metadata": {},
     "output_type": "execute_result"
    }
   ],
   "source": [
    "bsol.shape"
   ]
  },
  {
   "cell_type": "code",
   "execution_count": null,
   "id": "4e1bc813-a8f8-4394-857d-5a9df53014cb",
   "metadata": {},
   "outputs": [
    {
     "data": {
      "text/plain": [
       "array([ 1.        ,  0.80643107, -0.19      ])"
      ]
     },
     "execution_count": 9,
     "metadata": {},
     "output_type": "execute_result"
    }
   ],
   "source": [
    "xsol"
   ]
  },
  {
   "cell_type": "markdown",
   "id": "1bbff3b6-23e4-41fb-885a-51b8aafd2c40",
   "metadata": {},
   "source": []
  }
 ],
 "metadata": {
  "kernelspec": {
   "display_name": "Python 3 (ipykernel)",
   "language": "python",
   "name": "python3"
  },
  "language_info": {
   "codemirror_mode": {
    "name": "ipython",
    "version": 3
   },
   "file_extension": ".py",
   "mimetype": "text/x-python",
   "name": "python",
   "nbconvert_exporter": "python",
   "pygments_lexer": "ipython3",
   "version": "3.11.7"
  }
 },
 "nbformat": 4,
 "nbformat_minor": 5
}
